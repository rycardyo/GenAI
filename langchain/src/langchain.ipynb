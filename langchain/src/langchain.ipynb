{
 "cells": [
  {
   "cell_type": "code",
   "execution_count": 1,
   "metadata": {},
   "outputs": [],
   "source": [
    "import os \n"
   ]
  },
  {
   "cell_type": "markdown",
   "metadata": {},
   "source": [
    "## Model"
   ]
  },
  {
   "cell_type": "code",
   "execution_count": null,
   "metadata": {},
   "outputs": [],
   "source": [
    "from langchain.chat_models import ChatOpenAI\n",
    "\n",
    "llm_model = ''\n",
    "\n",
    "chat = ChatOpenAI(temperature = 0, \n",
    "                  model = llm_model)\n",
    "\n"
   ]
  },
  {
   "cell_type": "markdown",
   "metadata": {},
   "source": [
    "## Prompt Template"
   ]
  },
  {
   "cell_type": "code",
   "execution_count": 3,
   "metadata": {},
   "outputs": [
    {
     "name": "stdout",
     "output_type": "stream",
     "text": [
      "\n",
      "    Trauza o texto delimitado por \"\",\n",
      "    para o estilo  Vegetta muito furioso\n",
      "    \" \n",
      "    Voce nao poderia me derrotar, pois por ventura, sou deveras\n",
      "    mais poderoso que ti hihhihi, agora contemple minha tecnica secreta: \n",
      "\", também complete a técnica secreta de acordo com o personagem \n",
      "     citado no style \n"
     ]
    }
   ],
   "source": [
    "from langchain.prompts import ChatPromptTemplate\n",
    "#text = ''\n",
    "#style = 'O mesmo estilo de fala que o batman teria, o tom de batman sério'\n",
    "template_string = \"\"\"\n",
    "    Trauza o texto delimitado por \"\",\n",
    "    para o estilo {style}\n",
    "    \"{text}\", também complete a técnica secreta de acordo com o personagem \n",
    "     citado no style \"\"\"\n",
    "\n",
    "text = ''' \n",
    "    Voce nao poderia me derrotar, pois por ventura, sou deveras\n",
    "    mais poderoso que ti hihhihi, agora contemple minha tecnica secreta: \n",
    "'''\n",
    "\n",
    "style = ''' Vegetta muito furioso'''\n",
    "\n",
    "prompt_template = ChatPromptTemplate.from_template(template_string)\n",
    "formatPrompt = prompt_template.format_messages(\n",
    "    style = style, \n",
    "    text = text \n",
    ")\n",
    "\n",
    "print(formatPrompt[0].content)\n",
    "\n"
   ]
  },
  {
   "cell_type": "code",
   "execution_count": 18,
   "metadata": {},
   "outputs": [
    {
     "data": {
      "text/plain": [
       "PromptTemplate(input_variables=['style', 'text'], input_types={}, partial_variables={}, template='\\n    Trauza o texto delimitado por \"\",\\n    para o estilo {style}\\n    \"{text}\" ')"
      ]
     },
     "execution_count": 18,
     "metadata": {},
     "output_type": "execute_result"
    }
   ],
   "source": [
    "prompt_template.messages[0].prompt"
   ]
  },
  {
   "cell_type": "markdown",
   "metadata": {},
   "source": [
    "### Output Parsers\n",
    "\n",
    "A way that let you define how python can be deal with the ouput of model. \n",
    "\n",
    "Example: I want that my output have a json format... returns needs to be a python dictionary "
   ]
  },
  {
   "cell_type": "markdown",
   "metadata": {},
   "source": [
    "* Gonna be create a parser to a json format, with the keys:\n",
    "\n",
    "    * gift:\n",
    "    * deleivery_days\n",
    "    * prince_value"
   ]
  },
  {
   "cell_type": "code",
   "execution_count": null,
   "metadata": {},
   "outputs": [],
   "source": [
    "from langchain.output_parsers import ResponseSchema\n",
    "from langchain.output_parsers import StructuredOutputParser "
   ]
  },
  {
   "cell_type": "code",
   "execution_count": 9,
   "metadata": {},
   "outputs": [],
   "source": [
    "# create one schema for each key in the output\n",
    "# O schema description é puramente documental, ou possui \n",
    "# alguma finalidade de orientações ao modelo?\n",
    "\n",
    "gift_schema = ResponseSchema(name = 'gift',\n",
    "                             description= (\"Was the item purchased as a gift for someone else?\"\n",
    "                                            \"response True for yse, \"\n",
    "                                            \"False if not or unknown\")\n",
    "                                            )\n",
    "\n",
    "\n",
    "delivery_days_schema = ResponseSchema(\n",
    "    name = 'delivery_days',\n",
    "    description= (\"How many days didi it take for the product to arrive?\"\n",
    "                  \"If this information is not found, output -1\")\n",
    "    )\n",
    "\n",
    "\n",
    "price_value_schema = ResponseSchema(\n",
    "    name = 'price_value',\n",
    "    description = 'Extract any sentences about the value or price, and out them as a comma separated Python list'\n",
    ")\n",
    "\n",
    "responseSchemas = [gift_schema, delivery_days_schema, price_value_schema]\n"
   ]
  },
  {
   "cell_type": "code",
   "execution_count": null,
   "metadata": {},
   "outputs": [
    {
     "name": "stdout",
     "output_type": "stream",
     "text": [
      "response_schemas=[ResponseSchema(name='gift', description='Was the item purchased as a gift for someone else?response True for yse, False if not or unknown', type='string'), ResponseSchema(name='delivery_days', description='How many days didi it take for the product to arrive?If this information is not found, output -1', type='string'), ResponseSchema(name='price_value', description='Extract any sentences about the value or price, and out them as a comma separated Python list', type='string')]\n"
     ]
    }
   ],
   "source": [
    "# Cria uma \"tupla\" com \"n\" elementos, um para cada schema/key definido.\n",
    "\n",
    "output_parser = StructuredOutputParser.from_response_schemas(responseSchemas)\n",
    "print(output_parser)"
   ]
  },
  {
   "cell_type": "code",
   "execution_count": 12,
   "metadata": {},
   "outputs": [
    {
     "name": "stdout",
     "output_type": "stream",
     "text": [
      "The output should be a markdown code snippet formatted in the following schema, including the leading and trailing \"```json\" and \"```\":\n",
      "\n",
      "```json\n",
      "{\n",
      "\t\"gift\": string  // Was the item purchased as a gift for someone else?response True for yse, False if not or unknown\n",
      "\t\"delivery_days\": string  // How many days didi it take for the product to arrive?If this information is not found, output -1\n",
      "\t\"price_value\": string  // Extract any sentences about the value or price, and out them as a comma separated Python list\n",
      "}\n",
      "```\n"
     ]
    }
   ],
   "source": [
    "format_instructions = output_parser.get_format_instructions()\n",
    "print(format_instructions)"
   ]
  },
  {
   "cell_type": "code",
   "execution_count": 16,
   "metadata": {},
   "outputs": [
    {
     "name": "stdout",
     "output_type": "stream",
     "text": [
      "\n",
      "    Im a template string with the following paramters:\n",
      "\n",
      "    text: blablabla\n",
      "\n",
      "    The output should be a markdown code snippet formatted in the following schema, including the leading and trailing \"```json\" and \"```\":\n",
      "\n",
      "```json\n",
      "{\n",
      "\t\"gift\": string  // Was the item purchased as a gift for someone else?response True for yse, False if not or unknown\n",
      "\t\"delivery_days\": string  // How many days didi it take for the product to arrive?If this information is not found, output -1\n",
      "\t\"price_value\": string  // Extract any sentences about the value or price, and out them as a comma separated Python list\n",
      "}\n",
      "```\n",
      "\n",
      " \n"
     ]
    }
   ],
   "source": [
    "customer_review = 'blablabla'\n",
    "template_string = '''\n",
    "    Im a template string with the following paramters:\n",
    "    \n",
    "    text: {text}\n",
    "\n",
    "    {format_instructions}\n",
    "\n",
    " '''\n",
    "\n",
    "prompt = ChatPromptTemplate.from_template(template = template_string)\n",
    "messages = prompt.format_messages(\n",
    "    text = customer_review,\n",
    "    format_instructions=format_instructions\n",
    ")\n",
    "\n",
    "print(messages[0].content)"
   ]
  },
  {
   "cell_type": "code",
   "execution_count": null,
   "metadata": {},
   "outputs": [],
   "source": [
    "# invocar o modelo com o parser...\n",
    "response = chat(messages)"
   ]
  },
  {
   "cell_type": "code",
   "execution_count": null,
   "metadata": {},
   "outputs": [],
   "source": [
    "# apos o modelo processar o conteudo, utilizar o parser para a atividade de parsing do output\n",
    "output_parsed = output_parser.parse(response.content)\n"
   ]
  }
 ],
 "metadata": {
  "kernelspec": {
   "display_name": "genAiEnv",
   "language": "python",
   "name": "python3"
  },
  "language_info": {
   "codemirror_mode": {
    "name": "ipython",
    "version": 3
   },
   "file_extension": ".py",
   "mimetype": "text/x-python",
   "name": "python",
   "nbconvert_exporter": "python",
   "pygments_lexer": "ipython3",
   "version": "3.11.4"
  }
 },
 "nbformat": 4,
 "nbformat_minor": 2
}
